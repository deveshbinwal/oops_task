{
 "cells": [
  {
   "cell_type": "markdown",
   "id": "f0853dcd-4847-45b4-aaaa-36697ea58c89",
   "metadata": {},
   "source": [
    "Q1, Create a vehicle class with an init method having instance variables as name_of_vehicle, max_speed\n",
    "and average_of_vehicle."
   ]
  },
  {
   "cell_type": "code",
   "execution_count": 1,
   "id": "965ac01e-13a5-4f12-8371-3fb570c835ba",
   "metadata": {},
   "outputs": [],
   "source": [
    "class Vehicle:\n",
    "    def __init__(self,name_of_vehicle, max_speed, average_of_vehicle):\n",
    "        self.name_of_vehicle=name_of_vehicle\n",
    "        self.max_speed=max_speed\n",
    "        self.average_of_vehicle=average_of_vehicle"
   ]
  },
  {
   "cell_type": "code",
   "execution_count": 2,
   "id": "b7abd514-902f-443e-a13e-a4e05dc35d33",
   "metadata": {},
   "outputs": [],
   "source": [
    "obj_veh=Vehicle(\"Car\",200,50)"
   ]
  },
  {
   "cell_type": "code",
   "execution_count": 3,
   "id": "c43cae81-9a6f-4c1a-b918-3f3472f2fac1",
   "metadata": {},
   "outputs": [
    {
     "data": {
      "text/plain": [
       "'Car'"
      ]
     },
     "execution_count": 3,
     "metadata": {},
     "output_type": "execute_result"
    }
   ],
   "source": [
    "obj_veh.name_of_vehicle"
   ]
  },
  {
   "cell_type": "code",
   "execution_count": 4,
   "id": "d0bda8e7-9f0e-40b8-a594-7a3ad42b6e24",
   "metadata": {},
   "outputs": [
    {
     "data": {
      "text/plain": [
       "200"
      ]
     },
     "execution_count": 4,
     "metadata": {},
     "output_type": "execute_result"
    }
   ],
   "source": [
    "obj_veh.max_speed"
   ]
  },
  {
   "cell_type": "code",
   "execution_count": 5,
   "id": "4a360625-5a53-4982-a4b6-fd362c119ccc",
   "metadata": {},
   "outputs": [
    {
     "data": {
      "text/plain": [
       "50"
      ]
     },
     "execution_count": 5,
     "metadata": {},
     "output_type": "execute_result"
    }
   ],
   "source": [
    "obj_veh.average_of_vehicle"
   ]
  },
  {
   "cell_type": "code",
   "execution_count": null,
   "id": "ec3a5ee1-a815-4d6e-be39-97b6c454ecc3",
   "metadata": {},
   "outputs": [],
   "source": []
  },
  {
   "cell_type": "markdown",
   "id": "16ff01a1-84be-46bf-b46d-a7fb93212d97",
   "metadata": {},
   "source": [
    "Q2. Create a child class car from the vehicle class created in Que 1, which will inherit the vehicle class.\n",
    "Create a method named seating_capacity which takes capacity as an argument and returns the name of\n",
    "the vehicle and its seating capacity."
   ]
  },
  {
   "cell_type": "code",
   "execution_count": 6,
   "id": "a7983364-40fc-43ca-b04e-e90e8f43d217",
   "metadata": {},
   "outputs": [],
   "source": [
    "class Car(Vehicle):\n",
    "    def seating_capacity(self,capacity):\n",
    "        return f\"The {self.name_of_vehicle} has a seating capacity of {capacity} passengers.\"\n"
   ]
  },
  {
   "cell_type": "code",
   "execution_count": 11,
   "id": "38c58429-0bc5-423c-8ba3-4292bad93f23",
   "metadata": {},
   "outputs": [
    {
     "name": "stdout",
     "output_type": "stream",
     "text": [
      "The Car has a seating capacity of 4 passengers.\n"
     ]
    }
   ],
   "source": [
    "car = Car(\"Car\", 200, 50)\n",
    "capacity = 4\n",
    "\n",
    "seating_info = car.seating_capacity(capacity)\n",
    "print(seating_info)\n"
   ]
  },
  {
   "cell_type": "code",
   "execution_count": null,
   "id": "cfb391af-e89f-48d8-886a-9b782a684fe4",
   "metadata": {},
   "outputs": [],
   "source": []
  },
  {
   "cell_type": "markdown",
   "id": "119932af-cdc6-4512-bc6e-088f33fcc160",
   "metadata": {},
   "source": [
    "Q3. What is multiple inheritance? Write a python code to demonstrate multiple inheritance."
   ]
  },
  {
   "cell_type": "markdown",
   "id": "07361916-d00f-4539-a2af-f218f5b7dded",
   "metadata": {},
   "source": [
    "Multiple inheritance is a feature of object-oriented programming where a class can inherit attributes and methods from multiple parent classes. In Python, a class can inherit from multiple classes by specifying all the parent classes in the class definition.\n",
    "\n",
    "Here's an example that demonstrates multiple inheritance:"
   ]
  },
  {
   "cell_type": "code",
   "execution_count": 12,
   "id": "4c67978e-95b2-4f34-aa46-3da76ef24c89",
   "metadata": {},
   "outputs": [
    {
     "name": "stdout",
     "output_type": "stream",
     "text": [
      "Parent 1 method\n",
      "Parent 2 method\n"
     ]
    }
   ],
   "source": [
    "class Parent1:\n",
    "    def method1(self):\n",
    "        print(\"Parent 1 method\")\n",
    "\n",
    "class Parent2:\n",
    "    def method2(self):\n",
    "        print(\"Parent 2 method\")\n",
    "\n",
    "class Child(Parent1, Parent2):\n",
    "    pass\n",
    "\n",
    "# Create an instance of the Child class\n",
    "child = Child()\n",
    "\n",
    "# Call methods from both parent classes\n",
    "child.method1()  # Output: Parent 1 method\n",
    "child.method2()  # Output: Parent 2 method\n"
   ]
  },
  {
   "cell_type": "code",
   "execution_count": null,
   "id": "3b41672f-a51a-480a-a300-95792a7830f4",
   "metadata": {},
   "outputs": [],
   "source": []
  },
  {
   "cell_type": "markdown",
   "id": "49ad8021-8f6d-484d-bf08-f18686e86728",
   "metadata": {},
   "source": [
    "Q4. What are getter and setter in python? Create a class and create a getter and a setter method in this\n",
    "class."
   ]
  },
  {
   "cell_type": "markdown",
   "id": "d0bcffea-40ad-4c65-bbb0-4cfa807eed92",
   "metadata": {},
   "source": [
    "In Python, getters and setters are methods used to access and modify the values of class attributes or properties. They provide a way to encapsulate attribute access and enforce data integrity by controlling how attribute values are retrieved and updated.\n",
    "\n",
    "Here's an example that demonstrates the use of getter and setter methods in a class:"
   ]
  },
  {
   "cell_type": "code",
   "execution_count": 13,
   "id": "8420312b-4474-403d-9a06-5004366ee585",
   "metadata": {},
   "outputs": [
    {
     "name": "stdout",
     "output_type": "stream",
     "text": [
      "Alice\n",
      "Bob\n"
     ]
    }
   ],
   "source": [
    "class Person:\n",
    "    def __init__(self, name):\n",
    "        self._name = name  # Prefixing attribute with '_' to indicate it as a protected attribute\n",
    "\n",
    "    def get_name(self):\n",
    "        return self._name\n",
    "\n",
    "    def set_name(self, new_name):\n",
    "        self._name = new_name\n",
    "\n",
    "# Create an instance of the Person class\n",
    "person = Person(\"Alice\")\n",
    "\n",
    "# Get the current name using the getter method\n",
    "print(person.get_name())  # Output: Alice\n",
    "\n",
    "# Set a new name using the setter method\n",
    "person.set_name(\"Bob\")\n",
    "\n",
    "# Get the updated name using the getter method\n",
    "print(person.get_name())  # Output: Bob\n"
   ]
  },
  {
   "cell_type": "code",
   "execution_count": null,
   "id": "f55684c8-3469-4818-bbb0-8d1fb7c0d112",
   "metadata": {},
   "outputs": [],
   "source": [
    "\n"
   ]
  },
  {
   "cell_type": "markdown",
   "id": "5df23eac-72a5-4478-bc26-a681f0518a52",
   "metadata": {},
   "source": [
    "Q5.What is method overriding in python? Write a python code to demonstrate method overriding."
   ]
  },
  {
   "cell_type": "code",
   "execution_count": null,
   "id": "3ff9a021-b24c-4695-8870-82470f6759e9",
   "metadata": {},
   "outputs": [],
   "source": [
    "Method overriding is a feature in object-oriented programming where a subclass provides its own implementation of a method that is already defined in its parent class. This allows the subclass to modify or extend the behavior of the inherited method.\n",
    "\n",
    "Here's an example that demonstrates method overriding in Python:\n",
    "\n",
    "```python\n",
    "class Shape:\n",
    "    def area(self):\n",
    "        print(\"Calculating area of Shape.\")\n",
    "\n",
    "class Rectangle(Shape):\n",
    "    def area(self):\n",
    "        length = 5\n",
    "        width = 3\n",
    "        area = length * width\n",
    "        print(\"Calculating area of Rectangle:\", area)\n",
    "\n",
    "# Create instances of the classes\n",
    "shape = Shape()\n",
    "rectangle = Rectangle()\n",
    "\n",
    "# Call the area() method\n",
    "shape.area()       # Output: Calculating area of Shape.\n",
    "rectangle.area()   # Output: Calculating area of Rectangle: 15\n",
    "```\n",
    "\n",
    "In this example, there is a parent class `Shape` with an `area()` method. The `Shape` class provides a generic implementation of calculating the area of a shape.\n",
    "\n",
    "The `Rectangle` class is a subclass of `Shape` and overrides the `area()` method with its own implementation specific to rectangles. It calculates the area of a rectangle using the length and width provided in the method.\n",
    "\n",
    "When calling the `area()` method on the instances of `Shape` and `Rectangle`, the appropriate implementation is invoked based on the type of the object. The `shape.area()` call executes the method defined in the `Shape` class, while the `rectangle.area()` call executes the overridden method in the `Rectangle` class.\n",
    "\n",
    "Method overriding allows subclasses to provide specialized behavior while maintaining the same method signature as the parent class. It enables customization and extension of functionality in object-oriented programming."
   ]
  }
 ],
 "metadata": {
  "kernelspec": {
   "display_name": "Python 3 (ipykernel)",
   "language": "python",
   "name": "python3"
  },
  "language_info": {
   "codemirror_mode": {
    "name": "ipython",
    "version": 3
   },
   "file_extension": ".py",
   "mimetype": "text/x-python",
   "name": "python",
   "nbconvert_exporter": "python",
   "pygments_lexer": "ipython3",
   "version": "3.10.8"
  }
 },
 "nbformat": 4,
 "nbformat_minor": 5
}
